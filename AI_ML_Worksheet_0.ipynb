{
  "nbformat": 4,
  "nbformat_minor": 0,
  "metadata": {
    "colab": {
      "provenance": [],
      "collapsed_sections": [
        "-b1bJEKBJSJ3",
        "D-htlKxpWgUs",
        "xjiSfL-vawPF",
        "A8YNu8_Z5AwS",
        "0F_jRcV95DO7",
        "6tgzi8nOS6uI"
      ],
      "include_colab_link": true
    },
    "kernelspec": {
      "name": "python3",
      "display_name": "Python 3"
    },
    "language_info": {
      "name": "python"
    }
  },
  "cells": [
    {
      "cell_type": "markdown",
      "metadata": {
        "id": "view-in-github",
        "colab_type": "text"
      },
      "source": [
        "<a href=\"https://colab.research.google.com/github/pankajmahato907/AI_Workshops/blob/main/AI_ML_Worksheet_0.ipynb\" target=\"_parent\"><img src=\"https://colab.research.google.com/assets/colab-badge.svg\" alt=\"Open In Colab\"/></a>"
      ]
    },
    {
      "cell_type": "markdown",
      "source": [
        "# 1. Python"
      ],
      "metadata": {
        "id": "-b1bJEKBJSJ3"
      }
    },
    {
      "cell_type": "code",
      "execution_count": 1,
      "metadata": {
        "colab": {
          "base_uri": "https://localhost:8080/"
        },
        "id": "S-DAusdlJPkz",
        "outputId": "15044522-3fa3-4944-882f-8f4f72e92b0a"
      },
      "outputs": [
        {
          "output_type": "stream",
          "name": "stdout",
          "text": [
            "Hello, World\n",
            "Python version: 3\n"
          ]
        }
      ],
      "source": [
        "# python version\n",
        "import sys\n",
        "\n",
        "if sys.version_info.major == 3 and sys.version_info.minor >= 6:\n",
        "    print(\"Hello, World\")\n",
        "    print(f\"Python version: {sys.version_info.major}\")\n",
        "else:\n",
        "    print(\"Please use python 3.6 or more.\")"
      ]
    },
    {
      "cell_type": "code",
      "source": [
        "# python datatypes -> List\n",
        "my_list = [1,2,3]\n",
        "print(\"Original List: \", my_list)\n",
        "\n",
        "# modyfying the list (changing contents)\n",
        "my_list.append(4)\n",
        "print(\"Modified List: \", my_list)"
      ],
      "metadata": {
        "colab": {
          "base_uri": "https://localhost:8080/"
        },
        "id": "OYzYwr6CKPE8",
        "outputId": "358206d4-6c4c-4fe5-ef28-5085cc56b402"
      },
      "execution_count": 1,
      "outputs": [
        {
          "output_type": "stream",
          "name": "stdout",
          "text": [
            "Original List:  [1, 2, 3]\n",
            "Modified List:  [1, 2, 3, 4]\n"
          ]
        }
      ]
    },
    {
      "cell_type": "code",
      "source": [
        "# python datatype -> Tuple\n",
        "my_tuple = (1,2,3)\n",
        "print(\"Original tuple: \", my_tuple)\n",
        "\n",
        "# modifing the tuple generate error as it is immutable"
      ],
      "metadata": {
        "colab": {
          "base_uri": "https://localhost:8080/"
        },
        "id": "CvyrpbGaK0lt",
        "outputId": "efae4353-3ac8-4bf6-aabb-d6a5c0736b4b"
      },
      "execution_count": 2,
      "outputs": [
        {
          "output_type": "stream",
          "name": "stdout",
          "text": [
            "Original tuple:  (1, 2, 3)\n"
          ]
        }
      ]
    },
    {
      "cell_type": "code",
      "source": [
        "# Numeric datatypes\n",
        "age = 23\n",
        "marks = 90.5\n",
        "\n",
        "print(\"Data type of age is \", type(age))\n",
        "print(\"Data type of marks is \", type(marks))"
      ],
      "metadata": {
        "colab": {
          "base_uri": "https://localhost:8080/"
        },
        "id": "mXi1AxlQLS-8",
        "outputId": "611cde28-0f5a-4521-d56f-4de80f9ae207"
      },
      "execution_count": 3,
      "outputs": [
        {
          "output_type": "stream",
          "name": "stdout",
          "text": [
            "Data type of age is  <class 'int'>\n",
            "Data type of marks is  <class 'float'>\n"
          ]
        }
      ]
    },
    {
      "cell_type": "code",
      "source": [
        "# sequence\n",
        "name = \"Pankaj Kumar Mahato\"\n",
        "greeting = \"Namaste\"\n",
        "address = \"Kotehwor\"\n",
        "\n",
        "print(\"data type of the variable name = \",type(name))\n",
        "print(\"data type of the variable greeting = \",type(greeting))\n",
        "print(\"data type of the variable address = \",type(address))\n",
        "\n",
        "# slice only one element\n",
        "print(\"The first letter of the name is:\", name[0])\n",
        "print(\"The last letter of the name is:\", name[-1])\n",
        "\n",
        "# slice a range of elements\n",
        "print(\"The second letter to the fourth of the name is:\", name[1:4])\n",
        "print(\"The first two letters of the name are:\", name[:2])\n",
        "print(\"Substring starting from the third letter is:\", name[2:])"
      ],
      "metadata": {
        "colab": {
          "base_uri": "https://localhost:8080/"
        },
        "id": "8l2ACUIOMYln",
        "outputId": "502717e5-ffaf-47b0-f12c-feeb7bcddb33"
      },
      "execution_count": 4,
      "outputs": [
        {
          "output_type": "stream",
          "name": "stdout",
          "text": [
            "data type of the variable name =  <class 'str'>\n",
            "data type of the variable greeting =  <class 'str'>\n",
            "data type of the variable address =  <class 'str'>\n",
            "The first letter of the name is: P\n",
            "The last letter of the name is: o\n",
            "The second letter to the fourth of the name is: ank\n",
            "The first two letters of the name are: Pa\n",
            "Substring starting from the third letter is: nkaj Kumar Mahato\n"
          ]
        }
      ]
    },
    {
      "cell_type": "code",
      "source": [
        "# List\n",
        "list1 = [1,2,3]\n",
        "mixed_list = [1,\"Apple\",4.5]\n",
        "\n",
        "# List is mutable\n",
        "mixed_list[1] = \"Orange\"\n",
        "print(mixed_list)"
      ],
      "metadata": {
        "colab": {
          "base_uri": "https://localhost:8080/"
        },
        "id": "yQaTd4HiM0tW",
        "outputId": "13069203-bfca-4747-ad43-8f7cbe29d4bb"
      },
      "execution_count": 5,
      "outputs": [
        {
          "output_type": "stream",
          "name": "stdout",
          "text": [
            "[1, 'Orange', 4.5]\n"
          ]
        }
      ]
    },
    {
      "cell_type": "code",
      "source": [
        "#  Tuple Mutability\n",
        "my_tuple = (1,2,3,\"Apple\")\n",
        "my_tuple[1] = \"Ten\""
      ],
      "metadata": {
        "colab": {
          "base_uri": "https://localhost:8080/",
          "height": 176
        },
        "id": "2PkRZJ1-MfVj",
        "outputId": "d19c38c0-2be4-4735-ef3e-92c6ffe58c9a"
      },
      "execution_count": 6,
      "outputs": [
        {
          "output_type": "error",
          "ename": "TypeError",
          "evalue": "'tuple' object does not support item assignment",
          "traceback": [
            "\u001b[0;31m---------------------------------------------------------------------------\u001b[0m",
            "\u001b[0;31mTypeError\u001b[0m                                 Traceback (most recent call last)",
            "\u001b[0;32m<ipython-input-6-c0fe6be302a7>\u001b[0m in \u001b[0;36m<cell line: 0>\u001b[0;34m()\u001b[0m\n\u001b[1;32m      1\u001b[0m \u001b[0;31m#  Tuple Mutability\u001b[0m\u001b[0;34m\u001b[0m\u001b[0;34m\u001b[0m\u001b[0m\n\u001b[1;32m      2\u001b[0m \u001b[0mmy_tuple\u001b[0m \u001b[0;34m=\u001b[0m \u001b[0;34m(\u001b[0m\u001b[0;36m1\u001b[0m\u001b[0;34m,\u001b[0m\u001b[0;36m2\u001b[0m\u001b[0;34m,\u001b[0m\u001b[0;36m3\u001b[0m\u001b[0;34m,\u001b[0m\u001b[0;34m\"Apple\"\u001b[0m\u001b[0;34m)\u001b[0m\u001b[0;34m\u001b[0m\u001b[0;34m\u001b[0m\u001b[0m\n\u001b[0;32m----> 3\u001b[0;31m \u001b[0mmy_tuple\u001b[0m\u001b[0;34m[\u001b[0m\u001b[0;36m1\u001b[0m\u001b[0;34m]\u001b[0m \u001b[0;34m=\u001b[0m \u001b[0;34m\"Ten\"\u001b[0m\u001b[0;34m\u001b[0m\u001b[0;34m\u001b[0m\u001b[0m\n\u001b[0m",
            "\u001b[0;31mTypeError\u001b[0m: 'tuple' object does not support item assignment"
          ]
        }
      ]
    },
    {
      "cell_type": "code",
      "source": [
        "colors = (\"red\", \"green\", \"yellow\", \"blue\")\n",
        "print(\"First element:\", colors[0])\n",
        "print(\"Last two elements:\", colors[2:])\n",
        "print(\"Middle two elements:\", colors[1:3])\n",
        "colors[0] = \"purple\"\n",
        "\n",
        "print(colors)"
      ],
      "metadata": {
        "colab": {
          "base_uri": "https://localhost:8080/",
          "height": 263
        },
        "id": "IeUHi1W3Nzy-",
        "outputId": "13431fea-6eea-44ac-f345-4dba213bb3a1"
      },
      "execution_count": 7,
      "outputs": [
        {
          "output_type": "stream",
          "name": "stdout",
          "text": [
            "First element: red\n",
            "Last two elements: ('yellow', 'blue')\n",
            "Middle two elements: ('green', 'yellow')\n"
          ]
        },
        {
          "output_type": "error",
          "ename": "TypeError",
          "evalue": "'tuple' object does not support item assignment",
          "traceback": [
            "\u001b[0;31m---------------------------------------------------------------------------\u001b[0m",
            "\u001b[0;31mTypeError\u001b[0m                                 Traceback (most recent call last)",
            "\u001b[0;32m<ipython-input-7-73f9fbd9132e>\u001b[0m in \u001b[0;36m<cell line: 0>\u001b[0;34m()\u001b[0m\n\u001b[1;32m      3\u001b[0m \u001b[0mprint\u001b[0m\u001b[0;34m(\u001b[0m\u001b[0;34m\"Last two elements:\"\u001b[0m\u001b[0;34m,\u001b[0m \u001b[0mcolors\u001b[0m\u001b[0;34m[\u001b[0m\u001b[0;36m2\u001b[0m\u001b[0;34m:\u001b[0m\u001b[0;34m]\u001b[0m\u001b[0;34m)\u001b[0m\u001b[0;34m\u001b[0m\u001b[0;34m\u001b[0m\u001b[0m\n\u001b[1;32m      4\u001b[0m \u001b[0mprint\u001b[0m\u001b[0;34m(\u001b[0m\u001b[0;34m\"Middle two elements:\"\u001b[0m\u001b[0;34m,\u001b[0m \u001b[0mcolors\u001b[0m\u001b[0;34m[\u001b[0m\u001b[0;36m1\u001b[0m\u001b[0;34m:\u001b[0m\u001b[0;36m3\u001b[0m\u001b[0;34m]\u001b[0m\u001b[0;34m)\u001b[0m\u001b[0;34m\u001b[0m\u001b[0;34m\u001b[0m\u001b[0m\n\u001b[0;32m----> 5\u001b[0;31m \u001b[0mcolors\u001b[0m\u001b[0;34m[\u001b[0m\u001b[0;36m0\u001b[0m\u001b[0;34m]\u001b[0m \u001b[0;34m=\u001b[0m \u001b[0;34m\"purple\"\u001b[0m\u001b[0;34m\u001b[0m\u001b[0;34m\u001b[0m\u001b[0m\n\u001b[0m\u001b[1;32m      6\u001b[0m \u001b[0;34m\u001b[0m\u001b[0m\n\u001b[1;32m      7\u001b[0m \u001b[0mprint\u001b[0m\u001b[0;34m(\u001b[0m\u001b[0mcolors\u001b[0m\u001b[0;34m)\u001b[0m\u001b[0;34m\u001b[0m\u001b[0;34m\u001b[0m\u001b[0m\n",
            "\u001b[0;31mTypeError\u001b[0m: 'tuple' object does not support item assignment"
          ]
        }
      ]
    },
    {
      "cell_type": "code",
      "source": [
        "# Dictionary\n",
        "person = {\n",
        "    name: \"Pankaj Kumar Mahato\",\n",
        "    age: 23,\n",
        "    address: \"Koteshwor\"\n",
        "}\n",
        "\n",
        "print(f\"\"\"\n",
        "    Hello, World. I am {person[name]}, {person[age]} of age, from {person[address]}\n",
        "\"\"\")"
      ],
      "metadata": {
        "colab": {
          "base_uri": "https://localhost:8080/"
        },
        "id": "j-zgcQj2OHD0",
        "outputId": "207ba7a8-ce38-4d7d-c4dc-9f7836e2079c"
      },
      "execution_count": 8,
      "outputs": [
        {
          "output_type": "stream",
          "name": "stdout",
          "text": [
            "\n",
            "    Hello, World. I am Pankaj Kumar Mahato, 23 of age, from Koteshwor\n",
            "\n"
          ]
        }
      ]
    },
    {
      "cell_type": "code",
      "source": [
        "# Set\n",
        "\n",
        "unique_numbers = {1,2,33,33,45,4,2,1}\n",
        "print(unique_numbers)"
      ],
      "metadata": {
        "colab": {
          "base_uri": "https://localhost:8080/"
        },
        "id": "0s0uSB2hPq5u",
        "outputId": "9e561587-df83-4f84-ac70-7af96224f222"
      },
      "execution_count": 9,
      "outputs": [
        {
          "output_type": "stream",
          "name": "stdout",
          "text": [
            "{1, 2, 33, 4, 45}\n"
          ]
        }
      ]
    },
    {
      "cell_type": "code",
      "source": [
        "# Boolean\n",
        "\n",
        "is_student = True\n",
        "has_license = False\n",
        "\n",
        "print(\"data type of the variable is_student = \",type(is_student))\n",
        "print(\"data type of the variable has_license = \",type(has_license))"
      ],
      "metadata": {
        "colab": {
          "base_uri": "https://localhost:8080/"
        },
        "id": "H1kAzGk1P04V",
        "outputId": "afb5ec95-9424-483e-cc00-5fefed56db1a"
      },
      "execution_count": 10,
      "outputs": [
        {
          "output_type": "stream",
          "name": "stdout",
          "text": [
            "data type of the variable is_student =  <class 'bool'>\n",
            "data type of the variable has_license =  <class 'bool'>\n"
          ]
        }
      ]
    },
    {
      "cell_type": "code",
      "source": [
        "# Conditional\n",
        "\n",
        "is_ram_a_god_name = True\n",
        "\n",
        "if is_ram_a_god_name:\n",
        "    print(\"Worship him.\")\n",
        "else:\n",
        "    pass"
      ],
      "metadata": {
        "colab": {
          "base_uri": "https://localhost:8080/"
        },
        "id": "7KAcK0M6P73F",
        "outputId": "62172731-3970-40d5-a8a2-e594d0785174"
      },
      "execution_count": 11,
      "outputs": [
        {
          "output_type": "stream",
          "name": "stdout",
          "text": [
            "Worship him.\n"
          ]
        }
      ]
    },
    {
      "cell_type": "code",
      "source": [
        "# Loops\n",
        "\n",
        "n = 15\n",
        "while n>10:\n",
        "    n -= 1\n",
        "\n",
        "for i in range(1, n):\n",
        "    if i%2 == 0:\n",
        "        print(\"I am even, \", i)"
      ],
      "metadata": {
        "colab": {
          "base_uri": "https://localhost:8080/"
        },
        "id": "JqNaWQm8RV_t",
        "outputId": "11b4efdb-061c-4b5c-de77-1a170be1b630"
      },
      "execution_count": 12,
      "outputs": [
        {
          "output_type": "stream",
          "name": "stdout",
          "text": [
            "I am even,  2\n",
            "I am even,  4\n",
            "I am even,  6\n",
            "I am even,  8\n"
          ]
        }
      ]
    },
    {
      "cell_type": "code",
      "source": [
        "# Function with doc strings\n",
        "\n",
        "def is_even(n):\n",
        "\"\"\"\n",
        "Return if the number is even or odd\n",
        "\n",
        "Parameters:\n",
        "    n (int)\n",
        "\n",
        "Returns:\n",
        "    boolean value\n",
        "\"\"\"\n",
        "if n%2 == 0:\n",
        "            return True\n",
        "\n",
        "n = int(input(\"Enter a number \"))\n",
        "\n",
        "if is_even(n):\n",
        "    print(f\"{n} is even\")\n",
        "else:\n",
        "    print(f\"{n} is odd\")"
      ],
      "metadata": {
        "colab": {
          "base_uri": "https://localhost:8080/",
          "height": 106
        },
        "id": "LYp3h1_bR8B9",
        "outputId": "68075480-3175-4b60-b792-88722a342228"
      },
      "execution_count": 13,
      "outputs": [
        {
          "output_type": "error",
          "ename": "IndentationError",
          "evalue": "expected an indented block after function definition on line 3 (<ipython-input-13-372cbf66ab8a>, line 4)",
          "traceback": [
            "\u001b[0;36m  File \u001b[0;32m\"<ipython-input-13-372cbf66ab8a>\"\u001b[0;36m, line \u001b[0;32m4\u001b[0m\n\u001b[0;31m    \"\"\"\u001b[0m\n\u001b[0m    ^\u001b[0m\n\u001b[0;31mIndentationError\u001b[0m\u001b[0;31m:\u001b[0m expected an indented block after function definition on line 3\n"
          ]
        }
      ]
    },
    {
      "cell_type": "code",
      "source": [
        "def temperature_converter():\n",
        "    \"\"\"\n",
        "Converts temperature between Celsius and Fahrenheit.\n",
        "This function prompts the user to specify the conversion type (Celsius to Fahrenheit or\n",
        "Fahrenheit to Celsius)\n",
        "and then asks for the temperature value. It calculates and returns the converted temperature.\n",
        "Returns:\n",
        "    float: The converted temperature value.\n",
        "\"\"\"\n",
        "    print(\"Choose conversion type:\")\n",
        "    print(\"1. Celsius to Fahrenheit\")\n",
        "    print(\"2. Fahrenheit to Celsius\")\n",
        "    # Get conversion choice from user\n",
        "    choice = input(\"Enter 1 or 2: \")\n",
        "    if choice == \"1\":\n",
        "    # Celsius to Fahrenheit conversion\n",
        "        celsius = float(input(\"Enter temperature in Celsius: \"))\n",
        "        fahrenheit = (celsius * 9/5) + 32\n",
        "        print(f\"{celsius}C is equal to {fahrenheit}F\")\n",
        "        return fahrenheit\n",
        "    elif choice == \"2\":\n",
        "        # Fahrenheit to Celsius conversion\n",
        "        fahrenheit = float(input(\"Enter temperature in Fahrenheit: \"))\n",
        "        celsius = (fahrenheit - 32) * 5/9\n",
        "        print(f\"{fahrenheit}F is equal to {celsius}C\")\n",
        "        return celsius\n",
        "    else:\n",
        "        print(\"Invalid choice. Please enter 1 or 2.\")\n",
        "        return None\n",
        "# Call the function\n",
        "temperature_converter()"
      ],
      "metadata": {
        "colab": {
          "base_uri": "https://localhost:8080/"
        },
        "id": "QA0jnxmUSwIU",
        "outputId": "f2be8864-f825-4ec6-eda9-5ab26fd550a0"
      },
      "execution_count": 14,
      "outputs": [
        {
          "output_type": "stream",
          "name": "stdout",
          "text": [
            "Choose conversion type:\n",
            "1. Celsius to Fahrenheit\n",
            "2. Fahrenheit to Celsius\n",
            "Enter 1 or 2: 2\n",
            "Enter temperature in Fahrenheit: 30\n",
            "30.0F is equal to -1.1111111111111112C\n"
          ]
        },
        {
          "output_type": "execute_result",
          "data": {
            "text/plain": [
              "-1.1111111111111112"
            ]
          },
          "metadata": {},
          "execution_count": 14
        }
      ]
    },
    {
      "cell_type": "code",
      "source": [
        "# Error handling\n",
        "def check_age(age):\n",
        "    if age < 0:\n",
        "        raise ValueError(\"Age cannot be negative.\")\n",
        "    else:\n",
        "        print(\"Valid age\")\n",
        "\n",
        "try:\n",
        "    check_age(-1)\n",
        "except ValueError as e:\n",
        "    print(e)"
      ],
      "metadata": {
        "colab": {
          "base_uri": "https://localhost:8080/"
        },
        "id": "BN3UT2iTVWAf",
        "outputId": "f503d03d-3e97-45b7-b853-c7bf658b8c32"
      },
      "execution_count": 15,
      "outputs": [
        {
          "output_type": "stream",
          "name": "stdout",
          "text": [
            "Age cannot be negative.\n"
          ]
        }
      ]
    },
    {
      "cell_type": "markdown",
      "source": [
        "# **TODO Tasks**"
      ],
      "metadata": {
        "id": "YWUgV7BuWR0u"
      }
    },
    {
      "cell_type": "markdown",
      "source": [
        "## Task-1"
      ],
      "metadata": {
        "id": "D-htlKxpWgUs"
      }
    },
    {
      "cell_type": "code",
      "source": [
        "# Length\n",
        "def convert_length(n):\n",
        "    \"\"\"\n",
        "        Convert the length based on the unit\n",
        "        Parameters:\n",
        "            Value to convert\n",
        "        Returns:\n",
        "            Converted value\n",
        "    \"\"\"\n",
        "    try:\n",
        "        option = int(input(\"Do you want to convert it to meter(1) or feet(2) \"))\n",
        "\n",
        "        if option == 1:\n",
        "            return n/3.28084\n",
        "        elif option == 2:\n",
        "            return n * 3.28084\n",
        "    except ValueError:\n",
        "        print(\"Inappropriate option or value\")\n",
        "    except TypeError:\n",
        "        print(\"Cannot perform due to the type issue\")\n",
        "\n",
        "print(f\"{convert_length('abc')}\")"
      ],
      "metadata": {
        "colab": {
          "base_uri": "https://localhost:8080/"
        },
        "id": "3yo-GomWWXX9",
        "outputId": "ea89b6a2-46aa-406c-9f03-c7ea061fd6cb"
      },
      "execution_count": 16,
      "outputs": [
        {
          "output_type": "stream",
          "name": "stdout",
          "text": [
            "Do you want to convert it to meter(1) or feet(2) 1\n",
            "Cannot perform due to the type issue\n",
            "None\n"
          ]
        }
      ]
    },
    {
      "cell_type": "code",
      "source": [
        "# Weight\n",
        "def convert_weight(n):\n",
        "    \"\"\"\n",
        "        Convert the weight based on the unit\n",
        "        Parameters:\n",
        "            Value to convert\n",
        "        Returns:\n",
        "            Converted value\n",
        "    \"\"\"\n",
        "    try:\n",
        "        option = int(input(\"Do you want to convert it to pound(1) or kg(2) \"))\n",
        "\n",
        "        if option == 1:\n",
        "            return n*2.20462\n",
        "        elif option == 2:\n",
        "            return n /2.20462\n",
        "    except ValueError:\n",
        "        print(\"Inappropriate option or value\")\n",
        "    except TypeError:\n",
        "        print(\"Cannot perform due to the type issue\")\n",
        "\n",
        "print(f\"{convert_weight(10)}\")"
      ],
      "metadata": {
        "colab": {
          "base_uri": "https://localhost:8080/"
        },
        "id": "PIi_n5QpZBNt",
        "outputId": "6332ea90-36ec-479a-ebd5-ef318f299807"
      },
      "execution_count": 17,
      "outputs": [
        {
          "output_type": "stream",
          "name": "stdout",
          "text": [
            "Do you want to convert it to pound(1) or kg(2) 1\n",
            "22.0462\n"
          ]
        }
      ]
    },
    {
      "cell_type": "code",
      "source": [
        "# Volumn\n",
        "def convert_volumn(n):\n",
        "    \"\"\"\n",
        "        Convert the volumn based on the unit\n",
        "        Parameters:\n",
        "            Value to convert\n",
        "        Returns:\n",
        "            Converted value\n",
        "    \"\"\"\n",
        "    try:\n",
        "        option = int(input(\"Do you want to convert it to gallon(1) or liter(2) \"))\n",
        "\n",
        "        if option == 1:\n",
        "            return n/0.219969\n",
        "        elif option == 2:\n",
        "            return n * 0.219969\n",
        "    except ValueError:\n",
        "        print(\"Inappropriate option or value\")\n",
        "    except TypeError:\n",
        "        print(\"Cannot perform due to the type issue\")\n",
        "\n",
        "print(f\"{convert_volumn(10)}\")"
      ],
      "metadata": {
        "colab": {
          "base_uri": "https://localhost:8080/"
        },
        "id": "snBHI1m_aO11",
        "outputId": "4e6faf90-2346-4e46-8de6-3d84cfe9d4ea"
      },
      "execution_count": 18,
      "outputs": [
        {
          "output_type": "stream",
          "name": "stdout",
          "text": [
            "Do you want to convert it to gallon(1) or liter(2) 2\n",
            "2.19969\n"
          ]
        }
      ]
    },
    {
      "cell_type": "markdown",
      "source": [
        "## Task-2"
      ],
      "metadata": {
        "id": "xjiSfL-vawPF"
      }
    },
    {
      "cell_type": "code",
      "source": [
        "from re import split\n",
        "# Create a Python program that performs various mathematical operations on a list of numbers.\n",
        "\n",
        "def math_operation():\n",
        "    try:\n",
        "        option = int(input(\"What operation do you want to do today?\\n1.Find Max\\n2.Find Min\\n3.Find Sum\\n4.Find Average\\n\"))\n",
        "        if option>4 or option<1:\n",
        "            raise ValueError(\"Invalid Option\")\n",
        "\n",
        "        numbers = input(\"Enter the numbers seperated by space: \")\n",
        "        arr = numbers.split(\" \")\n",
        "        arr = [int(i) for i in arr]\n",
        "\n",
        "        if(option == 1):\n",
        "            print(f\"The max in the array is: {max(arr)}\")\n",
        "        elif(option == 2):\n",
        "            print(f\"The min in the array is: {min(arr)}\")\n",
        "        elif(option == 3):\n",
        "            print(f\"The sum of numbers in the array is: {add(arr)}\")\n",
        "        elif(option == 4):\n",
        "            print(f\"The average of numbers in the array is: {average(arr)}\")\n",
        "\n",
        "    except ValueError:\n",
        "        print(\"Invalid Option Selected\")\n",
        "    except TypeError:\n",
        "        print(\"Please input numbers only\")\n",
        "\n",
        "def max(n):\n",
        "    \"\"\"\n",
        "        Returns the maximum number in the list\n",
        "\n",
        "        parameters:\n",
        "            n (array of numbers)\n",
        "\n",
        "        returns:\n",
        "            max_number\n",
        "    \"\"\"\n",
        "    max_num = n[0]\n",
        "    for i in range(1,len(n)):\n",
        "        if max_num < n[i]:\n",
        "            max_num = n[i]\n",
        "\n",
        "    return max_num\n",
        "\n",
        "def min(n):\n",
        "    \"\"\"\n",
        "        Returns the minimum number in the list\n",
        "\n",
        "        parameters:\n",
        "            n (array of numbers)\n",
        "\n",
        "        returns:\n",
        "            min_number\n",
        "    \"\"\"\n",
        "    min_num = n[0]\n",
        "    for i in range(1,len(n)):\n",
        "        if min_num > n[i]:\n",
        "            max_num = n[i]\n",
        "\n",
        "    return min_num\n",
        "\n",
        "def add(n):\n",
        "    \"\"\"\n",
        "        Returns the sum of numbers in the list\n",
        "\n",
        "        parameters:\n",
        "            n (array of numbers)\n",
        "\n",
        "        returns:\n",
        "            max_number\n",
        "    \"\"\"\n",
        "    sum = 0\n",
        "    for i in range(len(n)):\n",
        "        sum += n[i]\n",
        "\n",
        "    return sum\n",
        "\n",
        "def average(n):\n",
        "    \"\"\"\n",
        "        Returns the average of numbers in the list\n",
        "\n",
        "        parameters:\n",
        "            n (array of numbers)\n",
        "\n",
        "        returns:\n",
        "            average\n",
        "    \"\"\"\n",
        "    sum = 0\n",
        "    for i in range(len(n)):\n",
        "        sum += n[i]\n",
        "\n",
        "    return sum/len(n)\n",
        "\n",
        "# begin the program\n",
        "math_operation()\n"
      ],
      "metadata": {
        "id": "qh6ThE2mauTg"
      },
      "execution_count": null,
      "outputs": []
    },
    {
      "cell_type": "markdown",
      "source": [
        "## Exercise on List Manipulation:"
      ],
      "metadata": {
        "id": "A8YNu8_Z5AwS"
      }
    },
    {
      "cell_type": "code",
      "source": [
        "# Exercise on List Manipulation\n",
        "# Write a Python function that extracts every other element from a list, starting from the first element.\n",
        "\n",
        "def extract_every_other(lst):\n",
        "    \"\"\"\n",
        "        Extracts every other element from a list\n",
        "\n",
        "        returns:\n",
        "            new_list (array)\n",
        "    \"\"\"\n",
        "    new_array = []\n",
        "    for i in range(len(lst)):\n",
        "        if i%2 != 0: continue\n",
        "        new_array.append(lst[i])\n",
        "\n",
        "    return new_array\n",
        "\n",
        "res = extract_every_other([1,2,3,4,5,6])\n",
        "print(res)\n"
      ],
      "metadata": {
        "colab": {
          "base_uri": "https://localhost:8080/"
        },
        "id": "NrdFfCao090W",
        "outputId": "add62ffa-1775-4163-f200-f43ffcbaafc4"
      },
      "execution_count": null,
      "outputs": [
        {
          "output_type": "stream",
          "name": "stdout",
          "text": [
            "[1, 3, 5]\n"
          ]
        }
      ]
    },
    {
      "cell_type": "code",
      "source": [
        "# Write a Python function that returns a sublist from a given list, starting from a specified index and\n",
        "# ending at another specified index.\n",
        "\n",
        "def get_sublist(lst, start, end):\n",
        "    return lst[start:end]\n",
        "\n",
        "res = get_sublist([1,2,3,4,5,6,7], 1,2)\n",
        "print(res)"
      ],
      "metadata": {
        "colab": {
          "base_uri": "https://localhost:8080/"
        },
        "id": "gUzlx4DX2p3L",
        "outputId": "91f5c2e8-7a6e-4836-b737-2ab529622893"
      },
      "execution_count": null,
      "outputs": [
        {
          "output_type": "stream",
          "name": "stdout",
          "text": [
            "[2]\n"
          ]
        }
      ]
    },
    {
      "cell_type": "code",
      "source": [
        "# Reverse a List Using Slicing\n",
        "\n",
        "def reverse_list(lst):\n",
        "    return lst[::-1]\n",
        "\n",
        "res = reverse_list([1,2,3,4,5])\n",
        "print(res)"
      ],
      "metadata": {
        "colab": {
          "base_uri": "https://localhost:8080/"
        },
        "id": "bGusNlVt3BYT",
        "outputId": "26ffc647-60d4-4de8-dad7-594f9b979155"
      },
      "execution_count": null,
      "outputs": [
        {
          "output_type": "stream",
          "name": "stdout",
          "text": [
            "[5, 4, 3, 2, 1]\n"
          ]
        }
      ]
    },
    {
      "cell_type": "code",
      "source": [
        "# 4. Remove the First and Last Elements\n",
        "\n",
        "def remove_first_last(lst):\n",
        "    return lst[1:len(lst)-1]\n",
        "\n",
        "res = remove_first_last([1,2,3,4,5])\n",
        "print(res)"
      ],
      "metadata": {
        "colab": {
          "base_uri": "https://localhost:8080/"
        },
        "id": "wDJRWlWt3Yij",
        "outputId": "50db7351-8324-4837-a536-4eb67d1caa19"
      },
      "execution_count": null,
      "outputs": [
        {
          "output_type": "stream",
          "name": "stdout",
          "text": [
            "[2, 3, 4]\n"
          ]
        }
      ]
    },
    {
      "cell_type": "code",
      "source": [
        "# 5. Get the First n Elements\n",
        "\n",
        "def get_first_n(lst, n):\n",
        "    return lst[:n]\n",
        "\n",
        "res = get_first_n([1,2,3,4,5], 3)\n",
        "print(res)"
      ],
      "metadata": {
        "colab": {
          "base_uri": "https://localhost:8080/"
        },
        "id": "mZoZzN_z3pF7",
        "outputId": "02e4dfea-c746-45d6-96ba-4fa901fd9d76"
      },
      "execution_count": null,
      "outputs": [
        {
          "output_type": "stream",
          "name": "stdout",
          "text": [
            "[1, 2, 3]\n"
          ]
        }
      ]
    },
    {
      "cell_type": "code",
      "source": [
        "# 6. Extract Elements from the End\n",
        "def get_last_n(lst, n):\n",
        "    return lst[n:]\n",
        "\n",
        "res = get_last_n([1,2,3,4,5], 3)\n",
        "print(res)"
      ],
      "metadata": {
        "colab": {
          "base_uri": "https://localhost:8080/"
        },
        "id": "uEhrqYSk39gr",
        "outputId": "22d3c2f5-2db9-4a4c-a6df-9013efcc4dc5"
      },
      "execution_count": null,
      "outputs": [
        {
          "output_type": "stream",
          "name": "stdout",
          "text": [
            "[4, 5]\n"
          ]
        }
      ]
    },
    {
      "cell_type": "code",
      "source": [
        "# Extract Elements in Reverse Order\n",
        "\n",
        "def reverse_skip(lst):\n",
        "    return lst[::2][::-1]\n",
        "\n",
        "res = reverse_skip([1,2,3,4,5,6])\n",
        "print(res)"
      ],
      "metadata": {
        "colab": {
          "base_uri": "https://localhost:8080/"
        },
        "id": "1Xeqo0W74Q_q",
        "outputId": "d2fdae13-4c8e-4745-e85e-ffa75c23b20f"
      },
      "execution_count": null,
      "outputs": [
        {
          "output_type": "stream",
          "name": "stdout",
          "text": [
            "[5, 3, 1]\n"
          ]
        }
      ]
    },
    {
      "cell_type": "markdown",
      "source": [
        "## Exercise on Nested List:"
      ],
      "metadata": {
        "id": "0F_jRcV95DO7"
      }
    },
    {
      "cell_type": "code",
      "source": [
        "# 1. Flatten a Nested List\n",
        "\n",
        "def flatten(lst):\n",
        "    # List comprehension answer ->\n",
        "    # return [item for sublist in lst for item in sublist]\n",
        "    res = []\n",
        "    for i in lst:\n",
        "        for j in i:\n",
        "            res.append(j)\n",
        "\n",
        "    return res\n",
        "\n",
        "res = flatten([[1, 2], [3, 4], [5]])\n",
        "print(res)"
      ],
      "metadata": {
        "colab": {
          "base_uri": "https://localhost:8080/"
        },
        "id": "0njpdWKU4zbL",
        "outputId": "510a8ec4-2a18-4023-94c9-2479d024a0f7"
      },
      "execution_count": null,
      "outputs": [
        {
          "output_type": "stream",
          "name": "stdout",
          "text": [
            "[1, 2, 3, 4, 5]\n"
          ]
        }
      ]
    },
    {
      "cell_type": "code",
      "source": [
        "# 2. Accessing Nested List Elements\n",
        "\n",
        "def access_nested_element(lst, indices):\n",
        "    return lst[indices[0]][indices[1]]\n",
        "\n",
        "res = access_nested_element([[1, 2], [3, 4], [5]], [1,1])\n",
        "print(res)"
      ],
      "metadata": {
        "colab": {
          "base_uri": "https://localhost:8080/"
        },
        "id": "-JIBwNJ97gvK",
        "outputId": "7bf013f2-8ba9-47eb-bf54-7d92f819a978"
      },
      "execution_count": null,
      "outputs": [
        {
          "output_type": "stream",
          "name": "stdout",
          "text": [
            "4\n"
          ]
        }
      ]
    },
    {
      "cell_type": "code",
      "source": [
        "# 3. Sum of All Elements in a Nested List:\n",
        "\n",
        "def sum_nested(lst):\n",
        "    # List comprehension answer ->\n",
        "    # return [item for sublist in lst for item in sublist]\n",
        "    res = []\n",
        "    for i in lst:\n",
        "        for j in i:\n",
        "            res.append(j)\n",
        "\n",
        "    return sum(res)\n",
        "\n",
        "res = sum_nested([[1, 2], [3, 4], [5]])\n",
        "print(res)"
      ],
      "metadata": {
        "colab": {
          "base_uri": "https://localhost:8080/"
        },
        "id": "b7iMN0AM8Jbp",
        "outputId": "d6d21c0c-57fe-4446-c6e3-3d3b70c48166"
      },
      "execution_count": null,
      "outputs": [
        {
          "output_type": "stream",
          "name": "stdout",
          "text": [
            "15\n"
          ]
        }
      ]
    },
    {
      "cell_type": "code",
      "source": [
        "# 4. Remove Specific Element from a Nested List\n",
        "\n",
        "def remove_element(lst, elem):\n",
        "    for i in lst:\n",
        "        if elem in i:\n",
        "            i.remove(elem)\n",
        "\n",
        "    return lst\n",
        "\n",
        "res = remove_element([[1, 2], [3, 4], [2,5]], 2)\n",
        "print(res)"
      ],
      "metadata": {
        "colab": {
          "base_uri": "https://localhost:8080/"
        },
        "id": "hmhJbif_8eba",
        "outputId": "c11042c6-d117-446a-cf56-2dc680eb686a"
      },
      "execution_count": null,
      "outputs": [
        {
          "output_type": "stream",
          "name": "stdout",
          "text": [
            "[[1], [3, 4], [5]]\n"
          ]
        }
      ]
    },
    {
      "cell_type": "code",
      "source": [
        "# recusrion practice\n",
        "def factorial(n):\n",
        "    if n == 1:\n",
        "        return 1\n",
        "    else:\n",
        "        return n * factorial(n-1)\n",
        "\n",
        "factorial(5)"
      ],
      "metadata": {
        "colab": {
          "base_uri": "https://localhost:8080/"
        },
        "id": "gL9oxwKr_tsy",
        "outputId": "c7502afa-87e4-424a-95e6-6a8831945214"
      },
      "execution_count": null,
      "outputs": [
        {
          "output_type": "execute_result",
          "data": {
            "text/plain": [
              "120"
            ]
          },
          "metadata": {},
          "execution_count": 35
        }
      ]
    },
    {
      "cell_type": "code",
      "source": [
        "# 5. Find the Maximum Element in a Nested List:\n",
        "# Write a Python function that finds the maximum element in a nested list (regardless of depth).\n",
        "\n",
        "def flatten_list(lst):\n",
        "    # convert it to string, strip unnecessary characters\n",
        "    tmp = str(lst)\n",
        "    tmp = tmp.strip(\"[]\")\n",
        "    tmp = tmp.replace(\"[\", \"\").replace(\"]\", \"\").replace(\" \", \"\")\n",
        "    t_arr = tmp.split(\",\")\n",
        "\n",
        "    return [int(i) for i in t_arr]\n",
        "\n",
        "\n",
        "def find_max(lst):\n",
        "    return max(flatten_list(lst))\n",
        "\n",
        "print(find_max([[1, 2], [3, [4, 5]], 6]))"
      ],
      "metadata": {
        "colab": {
          "base_uri": "https://localhost:8080/"
        },
        "id": "KC7FDqZFoWCN",
        "outputId": "33a2d219-3201-40a2-a1cc-d31f106b5b19"
      },
      "execution_count": null,
      "outputs": [
        {
          "output_type": "stream",
          "name": "stdout",
          "text": [
            "6\n"
          ]
        }
      ]
    },
    {
      "cell_type": "code",
      "source": [
        "# 6. Count Occurrences of an Element in a Nested List:\n",
        "# Write a Python function that counts how many times a specific element appears in a nested list.\n",
        "\n",
        "def count_occurrences(lst, elem):\n",
        "    f_list = flatten_list(lst)\n",
        "    return f_list.count(elem)\n",
        "\n",
        "count_occurrences([[1,2,3],[1,2,3,2]], 2)"
      ],
      "metadata": {
        "colab": {
          "base_uri": "https://localhost:8080/"
        },
        "id": "qJXfPg3NkIRv",
        "outputId": "6fc17465-9e74-46ad-c182-e0583874d3d5"
      },
      "execution_count": null,
      "outputs": [
        {
          "output_type": "execute_result",
          "data": {
            "text/plain": [
              "3"
            ]
          },
          "metadata": {},
          "execution_count": 6
        }
      ]
    },
    {
      "cell_type": "code",
      "source": [
        "# 7. Flatten a List of Lists of Lists:\n",
        "# Write a Python function that flattens a list of lists of lists into a single list, regardless of the depth.\n",
        "\n",
        "def deep_flatten(lst):\n",
        "    # convert it to string, strip unnecessary characters\n",
        "    tmp = str(lst)\n",
        "    tmp = tmp.strip(\"[]\")\n",
        "    tmp = tmp.replace(\"[\", \"\").replace(\"]\", \"\").replace(\" \", \"\")\n",
        "    t_arr = tmp.split(\",\")\n",
        "\n",
        "    return [int(i) for i in t_arr]\n",
        "\n",
        "print(deep_flatten([[1, 2], [3, [4, 5]], 6]))"
      ],
      "metadata": {
        "colab": {
          "base_uri": "https://localhost:8080/"
        },
        "id": "MJalM4uAktIl",
        "outputId": "43c68553-a900-47a9-d63a-b686a71852ee"
      },
      "execution_count": null,
      "outputs": [
        {
          "output_type": "stream",
          "name": "stdout",
          "text": [
            "[1, 2, 3, 4, 5, 6]\n"
          ]
        }
      ]
    },
    {
      "cell_type": "code",
      "source": [
        "# 8. Nested List Average:\n",
        "# Write a Python function that calculates the average of all elements in a nested list.\n",
        "\n",
        "def average_nested(lst):\n",
        "    temp_arr = deep_flatten(lst)\n",
        "    return sum(temp_arr)/len(temp_arr)\n",
        "\n",
        "print(average_nested([[1, 2], [3, [4, 5]], 6]))"
      ],
      "metadata": {
        "colab": {
          "base_uri": "https://localhost:8080/"
        },
        "id": "x5LWmg9WlEC1",
        "outputId": "b09d356d-739a-43a8-b5ba-5f847af23c9c"
      },
      "execution_count": null,
      "outputs": [
        {
          "output_type": "stream",
          "name": "stdout",
          "text": [
            "3.5\n"
          ]
        }
      ]
    },
    {
      "cell_type": "markdown",
      "source": [
        "# Numpy"
      ],
      "metadata": {
        "id": "liQ6H0LulxKe"
      }
    },
    {
      "cell_type": "code",
      "source": [
        "# getting started with the numpy\n",
        "import numpy as np\n",
        "\n",
        "zeros_arr = np.zeros((2,3))\n",
        "print(\" A zeros array is \\n\", zeros_arr, \"with dimensions\", zeros_arr.shape, \"\\n\")"
      ],
      "metadata": {
        "colab": {
          "base_uri": "https://localhost:8080/"
        },
        "id": "i4WwNHdjesZq",
        "outputId": "263fed7d-eb33-41ba-baa0-58326eee8721"
      },
      "execution_count": null,
      "outputs": [
        {
          "output_type": "stream",
          "name": "stdout",
          "text": [
            " A zeros array is \n",
            " [[0. 0. 0.]\n",
            " [0. 0. 0.]] with dimensions (2, 3) \n",
            "\n"
          ]
        }
      ]
    },
    {
      "cell_type": "code",
      "source": [
        "print(np.array(5)) # scalar value represented as numpy matrix"
      ],
      "metadata": {
        "colab": {
          "base_uri": "https://localhost:8080/"
        },
        "id": "KHyy16KwfUIq",
        "outputId": "086258ab-97b1-4d50-8712-aaca11fa8f47"
      },
      "execution_count": null,
      "outputs": [
        {
          "output_type": "stream",
          "name": "stdout",
          "text": [
            "5\n"
          ]
        }
      ]
    },
    {
      "cell_type": "code",
      "source": [
        "print(np.array([1,3,4])) # one dimensional matrix"
      ],
      "metadata": {
        "colab": {
          "base_uri": "https://localhost:8080/"
        },
        "id": "aMboxwV0fnSi",
        "outputId": "ee992265-f02e-4d37-c9ec-5688c6180a44"
      },
      "execution_count": null,
      "outputs": [
        {
          "output_type": "stream",
          "name": "stdout",
          "text": [
            "[1 3 4]\n"
          ]
        }
      ]
    },
    {
      "cell_type": "code",
      "source": [
        "print(np.array([[1,2], [3,4]])) # multi dimensional array"
      ],
      "metadata": {
        "colab": {
          "base_uri": "https://localhost:8080/"
        },
        "id": "WxddihiPfw0B",
        "outputId": "26f4c554-1206-4b12-9b9d-7032bba9458e"
      },
      "execution_count": null,
      "outputs": [
        {
          "output_type": "stream",
          "name": "stdout",
          "text": [
            "[[1 2]\n",
            " [3 4]]\n"
          ]
        }
      ]
    },
    {
      "cell_type": "code",
      "source": [
        "print(np.array([[1,2], [34]])) # generates error as the shapes of each row does not match"
      ],
      "metadata": {
        "colab": {
          "base_uri": "https://localhost:8080/",
          "height": 158
        },
        "id": "Dkd9unfFgB-6",
        "outputId": "8860ac37-475a-4bd7-ee07-1374b836aa64"
      },
      "execution_count": null,
      "outputs": [
        {
          "output_type": "error",
          "ename": "ValueError",
          "evalue": "setting an array element with a sequence. The requested array has an inhomogeneous shape after 1 dimensions. The detected shape was (2,) + inhomogeneous part.",
          "traceback": [
            "\u001b[0;31m---------------------------------------------------------------------------\u001b[0m",
            "\u001b[0;31mValueError\u001b[0m                                Traceback (most recent call last)",
            "\u001b[0;32m<ipython-input-9-a985769b8a61>\u001b[0m in \u001b[0;36m<cell line: 0>\u001b[0;34m()\u001b[0m\n\u001b[0;32m----> 1\u001b[0;31m \u001b[0mprint\u001b[0m\u001b[0;34m(\u001b[0m\u001b[0mnp\u001b[0m\u001b[0;34m.\u001b[0m\u001b[0marray\u001b[0m\u001b[0;34m(\u001b[0m\u001b[0;34m[\u001b[0m\u001b[0;34m[\u001b[0m\u001b[0;36m1\u001b[0m\u001b[0;34m,\u001b[0m\u001b[0;36m2\u001b[0m\u001b[0;34m]\u001b[0m\u001b[0;34m,\u001b[0m \u001b[0;34m[\u001b[0m\u001b[0;36m34\u001b[0m\u001b[0;34m]\u001b[0m\u001b[0;34m]\u001b[0m\u001b[0;34m)\u001b[0m\u001b[0;34m)\u001b[0m\u001b[0;34m\u001b[0m\u001b[0;34m\u001b[0m\u001b[0m\n\u001b[0m",
            "\u001b[0;31mValueError\u001b[0m: setting an array element with a sequence. The requested array has an inhomogeneous shape after 1 dimensions. The detected shape was (2,) + inhomogeneous part."
          ]
        }
      ]
    },
    {
      "cell_type": "code",
      "source": [
        "# Create and display zero, one, and n-dimensional arrays\n",
        "zero_dim_array = np.array(5)\n",
        "one_dim_array = np.array([1, 2, 3])\n",
        "n_dim_array = np.array([[1, 2], [3, 4]])\n",
        "for arr in [zero_dim_array, one_dim_array, n_dim_array]:\n",
        "    print(f\"Array:\\n{arr}\\nDimension: {arr.ndim}\\nData type: {arr.dtype}\\n\")"
      ],
      "metadata": {
        "colab": {
          "base_uri": "https://localhost:8080/"
        },
        "id": "KEaqV_N5gLfq",
        "outputId": "8dbea197-0479-43ae-be39-ac0b7045d506"
      },
      "execution_count": null,
      "outputs": [
        {
          "output_type": "stream",
          "name": "stdout",
          "text": [
            "Array:\n",
            "5\n",
            "Dimension: 0\n",
            "Data type: int64\n",
            "\n",
            "Array:\n",
            "[1 2 3]\n",
            "Dimension: 1\n",
            "Data type: int64\n",
            "\n",
            "Array:\n",
            "[[1 2]\n",
            " [3 4]]\n",
            "Dimension: 2\n",
            "Data type: int64\n",
            "\n"
          ]
        }
      ]
    },
    {
      "cell_type": "code",
      "source": [
        "# Some attributes of numpy array\n",
        "# 1. ndim - dimension of the array\n",
        "# 2. dtype - datatype of the array\n",
        "# 3. shape - shape of the array\n",
        "# 4. size - total element in the array\n",
        "\n",
        "print(f\"Dimension of array: {one_dim_array.ndim}\")\n",
        "print(f\"Datatype of the array: {one_dim_array.dtype}\")\n",
        "print(f\"Shape of the array: {one_dim_array.shape}\")\n",
        "print(f\"Size of the array: {one_dim_array.size}\")"
      ],
      "metadata": {
        "colab": {
          "base_uri": "https://localhost:8080/"
        },
        "id": "Tgf3Q2AUhGVa",
        "outputId": "64da237f-442a-4b03-8cd0-ef895beda54d"
      },
      "execution_count": null,
      "outputs": [
        {
          "output_type": "stream",
          "name": "stdout",
          "text": [
            "Dimension of array: 1\n",
            "Datatype of the array: int64\n",
            "Shape of the array: (3,)\n",
            "Size of the array: 3\n"
          ]
        }
      ]
    },
    {
      "cell_type": "code",
      "source": [
        "# itemsize - size in byte of the single element\n",
        "print(f\"Item size: {one_dim_array.itemsize} bytes.\")"
      ],
      "metadata": {
        "colab": {
          "base_uri": "https://localhost:8080/"
        },
        "id": "RbF9hhrLiHSc",
        "outputId": "507b996b-28be-4909-fc96-41d520d63112"
      },
      "execution_count": null,
      "outputs": [
        {
          "output_type": "stream",
          "name": "stdout",
          "text": [
            "Item size: 8 bytes.\n"
          ]
        }
      ]
    },
    {
      "cell_type": "code",
      "source": [
        "# nbytes - total memory consumption of the array in bytes\n",
        "print(f\"Total memory consumption : {one_dim_array.nbytes} bytes.\")"
      ],
      "metadata": {
        "colab": {
          "base_uri": "https://localhost:8080/"
        },
        "id": "VkiczagMkh0T",
        "outputId": "ad3a4aee-562c-49bf-9b1e-eae12c898f61"
      },
      "execution_count": null,
      "outputs": [
        {
          "output_type": "stream",
          "name": "stdout",
          "text": [
            "Total memory consumption : 24\n"
          ]
        }
      ]
    },
    {
      "cell_type": "code",
      "source": [
        "# Transpose of the matrix\n",
        "print(f\"Transpose of the matrix \\n{n_dim_array} is \\n\\n{n_dim_array.T}.\")"
      ],
      "metadata": {
        "colab": {
          "base_uri": "https://localhost:8080/"
        },
        "id": "e7NrMJ6Bk8zT",
        "outputId": "dc38049f-b23e-46dc-a76c-80a8f31b3df1"
      },
      "execution_count": null,
      "outputs": [
        {
          "output_type": "stream",
          "name": "stdout",
          "text": [
            "Transpose of the matrix \n",
            "[[1 2]\n",
            " [3 4]] is \n",
            "\n",
            "[[1 3]\n",
            " [2 4]].\n"
          ]
        }
      ]
    },
    {
      "cell_type": "code",
      "source": [
        "# flat - convert the array to one dimension\n",
        "# .flat Flattening the Array: Returns an iterator over a 1D representation of the array.\n",
        "\n",
        "for i in n_dim_array.flat:\n",
        "    print(i, end = \", \")"
      ],
      "metadata": {
        "colab": {
          "base_uri": "https://localhost:8080/"
        },
        "id": "2hU8OJ3GlfTb",
        "outputId": "166ed7eb-b6cf-4299-8202-24735f3bed94"
      },
      "execution_count": null,
      "outputs": [
        {
          "output_type": "stream",
          "name": "stdout",
          "text": [
            "1, 2, 3, 4, "
          ]
        }
      ]
    },
    {
      "cell_type": "code",
      "source": [
        "# .real and .imag - Real and Imaginary Parts: Used for complex number arrays.\n",
        "\n",
        "arr_complex = np.array([1+2j, 3+4j])\n",
        "print(f\"Real : {arr_complex.real}\")\n",
        "print(f\"Imaginary : {arr_complex.imag}\")"
      ],
      "metadata": {
        "colab": {
          "base_uri": "https://localhost:8080/"
        },
        "id": "mnANt22Hmg10",
        "outputId": "fcb31b15-78d9-492f-c435-5a08c8307bbc"
      },
      "execution_count": null,
      "outputs": [
        {
          "output_type": "stream",
          "name": "stdout",
          "text": [
            "Real : [1. 3.]\n",
            "Imaginary : [2. 4.]\n"
          ]
        }
      ]
    },
    {
      "cell_type": "code",
      "source": [
        "# .astype(dtype) Convert Data Type: Converts the array elements to a specified data type.\n",
        "\n",
        "arr_float = n_dim_array.astype(float)\n",
        "print(arr_float)\n",
        "print(arr_float.dtype)"
      ],
      "metadata": {
        "colab": {
          "base_uri": "https://localhost:8080/"
        },
        "id": "8oOZZrnNmvs4",
        "outputId": "72a9ffad-c0d8-444d-d4ad-8eed81619886"
      },
      "execution_count": null,
      "outputs": [
        {
          "output_type": "stream",
          "name": "stdout",
          "text": [
            "[[1. 2.]\n",
            " [3. 4.]]\n",
            "float64\n"
          ]
        }
      ]
    },
    {
      "cell_type": "code",
      "source": [
        "# numpy reshape\n",
        "\n",
        "# changes the shape of the array as long as there are identical count of elements\n",
        "\n",
        "import numpy as np\n",
        "\n",
        "arr = np.array([[1,2,3],[4,5,6]])\n",
        "reshaped  = arr.reshape(3,2)\n",
        "print(reshaped)\n"
      ],
      "metadata": {
        "colab": {
          "base_uri": "https://localhost:8080/"
        },
        "id": "LbYCp8BIOQuA",
        "outputId": "37f53120-f20c-41f4-da22-4fa61cb6e0bd"
      },
      "execution_count": null,
      "outputs": [
        {
          "output_type": "stream",
          "name": "stdout",
          "text": [
            "[[1 2]\n",
            " [3 4]\n",
            " [5 6]]\n"
          ]
        }
      ]
    },
    {
      "cell_type": "code",
      "source": [
        "# arange\n",
        "\n",
        "a = np.arange(1, 10)\n",
        "print(a)\n",
        "\n",
        "x = range(1, 10)\n",
        "print(x) # x is an iterator\n",
        "\n",
        "print(list(x))\n",
        "\n",
        "# further arange examples:\n",
        "x = np.arange(1.4)\n",
        "print(x)\n",
        "\n",
        "x = np.arange(0.5, 10.4, 0.8)\n",
        "print(x)"
      ],
      "metadata": {
        "colab": {
          "base_uri": "https://localhost:8080/"
        },
        "id": "a_YxxDBqO8kw",
        "outputId": "7709936e-cd56-4c01-fbfa-0a139b4bc5ba"
      },
      "execution_count": null,
      "outputs": [
        {
          "output_type": "stream",
          "name": "stdout",
          "text": [
            "[1 2 3 4 5 6 7 8 9]\n",
            "range(1, 10)\n",
            "[1, 2, 3, 4, 5, 6, 7, 8, 9]\n",
            "[0. 1.]\n",
            "[ 0.5  1.3  2.1  2.9  3.7  4.5  5.3  6.1  6.9  7.7  8.5  9.3 10.1]\n"
          ]
        }
      ]
    },
    {
      "cell_type": "code",
      "source": [
        "list(range(1,10))"
      ],
      "metadata": {
        "colab": {
          "base_uri": "https://localhost:8080/"
        },
        "id": "O75qwAxkPq1x",
        "outputId": "469d4f5b-92ca-41c6-d5c2-2f44a2e71652"
      },
      "execution_count": null,
      "outputs": [
        {
          "output_type": "execute_result",
          "data": {
            "text/plain": [
              "[1, 2, 3, 4, 5, 6, 7, 8, 9]"
            ]
          },
          "metadata": {},
          "execution_count": 10
        }
      ]
    },
    {
      "cell_type": "code",
      "source": [
        "# linspace - generates equally spaced numbers, default = 50\n",
        "print(np.linspace(1, 10))\n",
        "\n",
        "# 7 values between 1 and 10:\n",
        "print(np.linspace(1, 10, 7))\n",
        "\n",
        "# excluding the endpoint:\n",
        "print(np.linspace(1, 10, 7, endpoint=False))"
      ],
      "metadata": {
        "colab": {
          "base_uri": "https://localhost:8080/"
        },
        "id": "8Ik04PL7QoJo",
        "outputId": "90022e71-f39c-4173-dd09-8f70ac4382d3"
      },
      "execution_count": null,
      "outputs": [
        {
          "output_type": "stream",
          "name": "stdout",
          "text": [
            "[ 1.          1.18367347  1.36734694  1.55102041  1.73469388  1.91836735\n",
            "  2.10204082  2.28571429  2.46938776  2.65306122  2.83673469  3.02040816\n",
            "  3.20408163  3.3877551   3.57142857  3.75510204  3.93877551  4.12244898\n",
            "  4.30612245  4.48979592  4.67346939  4.85714286  5.04081633  5.2244898\n",
            "  5.40816327  5.59183673  5.7755102   5.95918367  6.14285714  6.32653061\n",
            "  6.51020408  6.69387755  6.87755102  7.06122449  7.24489796  7.42857143\n",
            "  7.6122449   7.79591837  7.97959184  8.16326531  8.34693878  8.53061224\n",
            "  8.71428571  8.89795918  9.08163265  9.26530612  9.44897959  9.63265306\n",
            "  9.81632653 10.        ]\n",
            "[ 1.   2.5  4.   5.5  7.   8.5 10. ]\n",
            "[1.         2.28571429 3.57142857 4.85714286 6.14285714 7.42857143\n",
            " 8.71428571]\n"
          ]
        }
      ]
    },
    {
      "cell_type": "markdown",
      "source": [
        "## Creating or Initializing with Ones, Zeros and Empty:"
      ],
      "metadata": {
        "id": "sJlLdO85RI-J"
      }
    },
    {
      "cell_type": "code",
      "source": [
        "# np.ones\n",
        "# np.zeros - create matrix with zero of (n,n)\n",
        "# np.empty - create empty or uninitialized matrix of (n,n)\n",
        "# np.eye - identitiy matrix of (n,n)\n",
        "\n",
        "one_matrix = np.ones((3,4))\n",
        "print(one_matrix)\n",
        "\n",
        "zeros_matrix = np.zeros((3,4))\n",
        "print(zeros_matrix)\n",
        "\n",
        "empty_matrix = np.empty((3,4))\n",
        "print(empty_matrix)\n",
        "\n",
        "eye_mtrix = np.eye(3)\n",
        "print(eye_mtrix)"
      ],
      "metadata": {
        "colab": {
          "base_uri": "https://localhost:8080/"
        },
        "id": "DGOu-YlIRNhA",
        "outputId": "799d9722-1bd5-45ee-cfde-0adf70a406be"
      },
      "execution_count": null,
      "outputs": [
        {
          "output_type": "stream",
          "name": "stdout",
          "text": [
            "[[1. 1. 1. 1.]\n",
            " [1. 1. 1. 1.]\n",
            " [1. 1. 1. 1.]]\n",
            "[[0. 0. 0. 0.]\n",
            " [0. 0. 0. 0.]\n",
            " [0. 0. 0. 0.]]\n",
            "[[0. 0. 0. 0.]\n",
            " [0. 0. 0. 0.]\n",
            " [0. 0. 0. 0.]]\n",
            "[[1. 0. 0.]\n",
            " [0. 1. 0.]\n",
            " [0. 0. 1.]]\n"
          ]
        }
      ]
    },
    {
      "cell_type": "code",
      "source": [
        "# Existing Array of Shape:(2,3)\n",
        "arr = np.array([[1, 2, 3], [4, 5, 6]])\n",
        "# Creating Array with Shape of existing array:\n",
        "zeros, ones, empty = np.zeros(arr.shape), np.ones(arr.shape), np.empty(arr.shape) #\n",
        "# Shape: (2,3)\n",
        "print(arr, zeros, ones, empty, sep='\\n')"
      ],
      "metadata": {
        "colab": {
          "base_uri": "https://localhost:8080/"
        },
        "id": "OVAw5BDKSKEa",
        "outputId": "abc02559-7e85-4885-8371-4b1007d5b8bb"
      },
      "execution_count": null,
      "outputs": [
        {
          "output_type": "stream",
          "name": "stdout",
          "text": [
            "[[1 2 3]\n",
            " [4 5 6]]\n",
            "[[0. 0. 0.]\n",
            " [0. 0. 0.]]\n",
            "[[1. 1. 1.]\n",
            " [1. 1. 1.]]\n",
            "[[3.4149929e-316 0.0000000e+000 0.0000000e+000]\n",
            " [0.0000000e+000 0.0000000e+000 0.0000000e+000]]\n"
          ]
        }
      ]
    },
    {
      "cell_type": "markdown",
      "source": [
        "## Stacking methods"
      ],
      "metadata": {
        "id": "6tgzi8nOS6uI"
      }
    },
    {
      "cell_type": "code",
      "source": [
        "arr1 = np.array([[1, 2], [3, 4]]) # Shape: (2, 2)\n",
        "arr2 = np.array([[5, 6], [7, 8]]) # Shape: (2, 2)\n",
        "\n",
        "# Stacking examples\n",
        "\n",
        "hstacked = np.hstack((arr1, arr2))\n",
        "# Output hstack: [[1 2 5 6] [3 4 7 8]]\n",
        "\n",
        "vstacked = np.vstack((arr1, arr2))\n",
        "# Output vstack[[1 2] [3 4] [5 6] [7 8]]\n",
        "\n",
        "colstacked = np.column_stack((arr1[0], arr2[0]))\n",
        "# Output column stack: [[1 5] [2 6]]\n",
        "\n",
        "print(hstacked, vstacked, colstacked, sep='\\n\\n')"
      ],
      "metadata": {
        "colab": {
          "base_uri": "https://localhost:8080/"
        },
        "id": "GJqT0O_xSsao",
        "outputId": "51dcebbd-f706-4ccd-ac15-a3748c23443d"
      },
      "execution_count": null,
      "outputs": [
        {
          "output_type": "stream",
          "name": "stdout",
          "text": [
            "[[1 2 5 6]\n",
            " [3 4 7 8]]\n",
            "\n",
            "[[1 2]\n",
            " [3 4]\n",
            " [5 6]\n",
            " [7 8]]\n",
            "\n",
            "[[1 5]\n",
            " [2 6]]\n"
          ]
        }
      ]
    },
    {
      "cell_type": "code",
      "source": [
        "# Concatenation\n",
        "\n",
        "# Third Argument - axis = 0/1/2\n",
        "\n",
        "# Example\n",
        "\n",
        "arr1 = np.array([[1,2], [3,4]])\n",
        "arr2 = np.array([[5,6], [7,8]])\n",
        "\n",
        "concat_a1_a2 = np.concatenate((arr1,arr2),axis = 0) # vertical stacking\n",
        "print(concat_a1_a2)\n",
        "\n",
        "concat_a1_a2 = np.concatenate((arr1,arr2),axis = 1) # horizontal stacking\n",
        "print(concat_a1_a2)\n",
        "\n",
        "# concat_a1_a2 = np.concatenate((arr1,arr2),axis = 2) # depth stacking must be three dimensional\n",
        "# print(concat_a1_a2)"
      ],
      "metadata": {
        "colab": {
          "base_uri": "https://localhost:8080/"
        },
        "id": "IKYhe_rbTPHZ",
        "outputId": "bce4c1e3-2e86-4f20-8e61-6899e1623afe"
      },
      "execution_count": null,
      "outputs": [
        {
          "output_type": "stream",
          "name": "stdout",
          "text": [
            "[[1 2]\n",
            " [3 4]\n",
            " [5 6]\n",
            " [7 8]]\n",
            "[[1 2 5 6]\n",
            " [3 4 7 8]]\n"
          ]
        }
      ]
    },
    {
      "cell_type": "markdown",
      "source": [
        "# Array Mathematics with NumPy."
      ],
      "metadata": {
        "id": "9C_6unYKXP1S"
      }
    },
    {
      "cell_type": "code",
      "source": [
        "# random array basic operations\n",
        "\n",
        "arr1 = np.random.rand(3,2)\n",
        "arr2 = np.random.rand(3,2)\n",
        "\n",
        "print(np.add(arr1, arr2), np.subtract(arr1, arr2), np.multiply(arr1, arr2), np.divide(arr1,arr2), sep='\\n\\n')"
      ],
      "metadata": {
        "colab": {
          "base_uri": "https://localhost:8080/"
        },
        "id": "Z5jaDRZ1VGCx",
        "outputId": "95dfe613-996f-4791-d400-d09e1770eee7"
      },
      "execution_count": null,
      "outputs": [
        {
          "output_type": "stream",
          "name": "stdout",
          "text": [
            "[[0.49451145 0.78693964]\n",
            " [0.68685644 0.32423463]\n",
            " [0.89991269 1.90506643]]\n",
            "\n",
            "[[-0.42356506  0.25107463]\n",
            " [-0.43518792  0.09711984]\n",
            " [-0.33959443 -0.00143072]]\n",
            "\n",
            "[[0.01628355 0.13905888]\n",
            " [0.07059581 0.02392396]\n",
            " [0.17362962 0.90731902]]\n",
            "\n",
            "[[0.0772772  1.93708163]\n",
            " [0.22429462 1.8552489 ]\n",
            " [0.45204925 0.99849911]]\n"
          ]
        }
      ]
    },
    {
      "cell_type": "code",
      "source": [
        "# linear algrebra\n",
        "\n",
        "import numpy as np\n",
        "# Matrix multiplication\n",
        "A = np.array([[1, 2], [3, 4]])\n",
        "B = np.array([[5, 6], [7, 8]])\n",
        "\n",
        "product = np.dot(A, B)\n",
        "\n",
        "# Compute determinant\n",
        "det = np.linalg.det(A)\n",
        "\n",
        "# Compute inverse\n",
        "inverse = np.linalg.inv(A)\n",
        "\n",
        "# Compute eigenvalues and eigenvectors\n",
        "eigvals, eigvecs = np.linalg.eig(A)\n",
        "print(f\"Matrix Product:\\n{product}\")\n",
        "print(f\"Determinant: {det}\")\n",
        "print(f\"Inverse:\\n{inverse}\")\n",
        "print(f\"Eigenvalues: {eigvals}, Eigenvectors:\\n{eigvecs}\")"
      ],
      "metadata": {
        "colab": {
          "base_uri": "https://localhost:8080/"
        },
        "id": "TBxcOD4GX4qb",
        "outputId": "87568d84-3b5d-46bc-99b6-9fd2d1130267"
      },
      "execution_count": null,
      "outputs": [
        {
          "output_type": "stream",
          "name": "stdout",
          "text": [
            "Matrix Product:\n",
            "[[19 22]\n",
            " [43 50]]\n",
            "Determinant: -2.0000000000000004\n",
            "Inverse:\n",
            "[[-2.   1. ]\n",
            " [ 1.5 -0.5]]\n",
            "Eigenvalues: [-0.37228132  5.37228132], Eigenvectors:\n",
            "[[-0.82456484 -0.41597356]\n",
            " [ 0.56576746 -0.90937671]]\n"
          ]
        }
      ]
    },
    {
      "cell_type": "code",
      "source": [
        "import time\n",
        "# Create two large arrays\n",
        "size = 10**6\n",
        "a = np.random.rand(size)\n",
        "b = np.random.rand(size)\n",
        "\n",
        "# Using a loop\n",
        "start_time = time.time()\n",
        "result_loop = np.zeros(size)\n",
        "\n",
        "for i in range(size):\n",
        "    result_loop[i] = a[i] + b[i]\n",
        "end_time = time.time()\n",
        "loop_time = end_time - start_time\n",
        "print(f\"Loop Execution Time: {loop_time:.5f} seconds\")\n",
        "\n",
        "# Using NumPy’s vectorized operations\n",
        "start_time = time.time()\n",
        "\n",
        "result_vectorized = a + b # Element-wise addition\n",
        "end_time = time.time()\n",
        "vectorized_time = end_time - start_time\n",
        "print(f\"Vectorized Execution Time: {vectorized_time:.5f} seconds\")\n",
        "\n",
        "# Performance improvement factor\n",
        "speedup = loop_time / vectorized_time\n",
        "print(f\"Vectorization is approximately {speedup:.2f} times faster!\")"
      ],
      "metadata": {
        "colab": {
          "base_uri": "https://localhost:8080/"
        },
        "id": "HJnujmbjYu2i",
        "outputId": "935fabfd-f22a-4ea6-8616-baf481747829"
      },
      "execution_count": null,
      "outputs": [
        {
          "output_type": "stream",
          "name": "stdout",
          "text": [
            "Loop Execution Time: 0.45075 seconds\n",
            "Vectorized Execution Time: 0.00905 seconds\n",
            "Vectorization is approximately 49.79 times faster!\n"
          ]
        }
      ]
    },
    {
      "cell_type": "markdown",
      "source": [
        "# TODO - NUMPY"
      ],
      "metadata": {
        "id": "XunuVkOGfON7"
      }
    },
    {
      "cell_type": "code",
      "source": [
        "# Problem - 1: Array Creation:\n",
        "\n",
        "# Complete the following Tasks:\n",
        "# 1. Initialize an empty array with size 2X2.\n",
        "e_arr = np.empty((2,2))\n",
        "\n",
        "# 2. Initialize an all one array with size 4X2.\n",
        "o_arr = np.ones((4,2))\n",
        "\n",
        "# 3. Return a new array of given shape and type, filled with fill value.{Hint: np.full}\n",
        "full_arr = np.full((4,2), 10, dtype='float32')\n",
        "\n",
        "# 4. Return a new array of zeros with same shape and type as a given array.{Hint: np.zeros like}\n",
        "zeros_like_arr = np.zeros_like(np.array([[1,2],[3,4]]))\n",
        "\n",
        "# 5. Return a new array of ones with same shape and type as a given array.{Hint: np.ones like}\n",
        "ones_arr = np.ones_like(np.array([1,2,3,4]))\n",
        "\n",
        "# 6. For an existing list new_list = [1,2,3,4] convert to an numpy array.{Hint: np.array()}\n",
        "new_list = [1,2,3,4]\n",
        "arr = np.array(new_list)\n",
        "\n",
        "print(e_arr, o_arr, full_arr, zeros_like_arr, ones_arr, arr, sep='\\n\\n')\n"
      ],
      "metadata": {
        "colab": {
          "base_uri": "https://localhost:8080/"
        },
        "id": "2-WRe9oDfMG8",
        "outputId": "a332adbe-e002-477e-b3c4-800d7e0a37c6"
      },
      "execution_count": null,
      "outputs": [
        {
          "output_type": "stream",
          "name": "stdout",
          "text": [
            "[[4.9e-324 9.9e-324]\n",
            " [1.5e-323 2.0e-323]]\n",
            "\n",
            "[[1. 1.]\n",
            " [1. 1.]\n",
            " [1. 1.]\n",
            " [1. 1.]]\n",
            "\n",
            "[[10. 10.]\n",
            " [10. 10.]\n",
            " [10. 10.]\n",
            " [10. 10.]]\n",
            "\n",
            "[[0 0]\n",
            " [0 0]]\n",
            "\n",
            "[1 1 1 1]\n",
            "\n",
            "[1 2 3 4]\n"
          ]
        }
      ]
    },
    {
      "cell_type": "code",
      "source": [
        "# Problem - 2: Array Manipulation: Numerical Ranges and Array indexing:\n",
        "# Complete the following tasks:\n",
        "\n",
        "# 1. Create an array with values ranging from 10 to 49. {Hint:np.arrange()}.\n",
        "ten_to_forty_nine = np.arange(10,49)\n",
        "print(ten_to_forty_nine)\n",
        "\n",
        "# 2. Create a 3X3 matrix with values ranging from 0 to 8.\n",
        "zero_to_eight = np.arange(0,8)\n",
        "print(zero_to_eight)\n",
        "\n",
        "# {Hint:look for np.reshape()}\n",
        "\n",
        "# 3. Create a 3X3 identity matrix.{Hint:np.eye()}\n",
        "identity_matrix = np.eye(3)\n",
        "print(identity_matrix)\n",
        "\n",
        "# 4. Create a random array of size 30 and find the mean of the array.\n",
        "rand_arr = np.random.rand(30).mean()\n",
        "print(\"mean: \" , rand_arr)\n",
        "\n",
        "# {Hint:check for np.random.random() and array.mean() function}\n",
        "\n",
        "# 5. Create a 10X10 array with random values and find the minimum and maximum values.\n",
        "ten_by_ten = np.random.rand(10,10)\n",
        "print(\"max: \", ten_by_ten.max())\n",
        "print(\"min: \", ten_by_ten.min())\n",
        "\n",
        "# 6. Create a zero array of size 10 and replace 5th element with 1.\n",
        "size_ten = np.zeros((10,1))\n",
        "size_ten[5] = 1\n",
        "print(size_ten)\n",
        "\n",
        "# 7. Reverse an array arr = [1,2,0,0,4,0].\n",
        "reverse_arr = np.array([1,2,0,0,4,0][::-1])\n",
        "print(reverse_arr)\n",
        "\n",
        "# 8. Create a 2d array with 1 on border and 0 inside.\n",
        "array = np.ones((3, 4))\n",
        "array[1:-1, 1:-1] = 0\n",
        "print(array)\n",
        "\n",
        "# 9. Create a 8X8 matrix and fill it with a checkerboard pattern.\n",
        "eight_by_eight = np.ones((8,8))\n",
        "eight_by_eight[1::2, ::2] = 0\n",
        "eight_by_eight[::2, 1::2] = 0\n",
        "print(eight_by_eight)"
      ],
      "metadata": {
        "colab": {
          "base_uri": "https://localhost:8080/"
        },
        "id": "SmGXQeanhAH-",
        "outputId": "ace18962-4eb2-4986-d421-105c7dfc1dab"
      },
      "execution_count": null,
      "outputs": [
        {
          "output_type": "stream",
          "name": "stdout",
          "text": [
            "[10 11 12 13 14 15 16 17 18 19 20 21 22 23 24 25 26 27 28 29 30 31 32 33\n",
            " 34 35 36 37 38 39 40 41 42 43 44 45 46 47 48]\n",
            "[0 1 2 3 4 5 6 7]\n",
            "[[1. 0. 0.]\n",
            " [0. 1. 0.]\n",
            " [0. 0. 1.]]\n",
            "mean:  0.38799254062259514\n",
            "max:  0.9940546714907287\n",
            "min:  0.0014714422298330865\n",
            "[[0.]\n",
            " [0.]\n",
            " [0.]\n",
            " [0.]\n",
            " [0.]\n",
            " [1.]\n",
            " [0.]\n",
            " [0.]\n",
            " [0.]\n",
            " [0.]]\n",
            "[0 4 0 0 2 1]\n",
            "[[1. 1. 1. 1.]\n",
            " [1. 0. 0. 1.]\n",
            " [1. 1. 1. 1.]]\n",
            "[[1. 0. 1. 0. 1. 0. 1. 0.]\n",
            " [0. 1. 0. 1. 0. 1. 0. 1.]\n",
            " [1. 0. 1. 0. 1. 0. 1. 0.]\n",
            " [0. 1. 0. 1. 0. 1. 0. 1.]\n",
            " [1. 0. 1. 0. 1. 0. 1. 0.]\n",
            " [0. 1. 0. 1. 0. 1. 0. 1.]\n",
            " [1. 0. 1. 0. 1. 0. 1. 0.]\n",
            " [0. 1. 0. 1. 0. 1. 0. 1.]]\n"
          ]
        }
      ]
    },
    {
      "cell_type": "code",
      "source": [
        "# Problem - 3: Array Operations:\n",
        "# For the following arrays:\n",
        "\n",
        "x = np.array([[1,2],[3,5]])\n",
        "y = np.array([[5,6],[7,8]]);\n",
        "v = np.array([9,10])\n",
        "w = np.array([11,12]);\n",
        "\n",
        "# Complete all the task using numpy:\n",
        "\n",
        "# 1. Add the two array.\n",
        "print(\"ADD: \", x+y)\n",
        "\n",
        "# 2. Subtract the two array.\n",
        "print(\"SUBTRACT: \",x-y)\n",
        "\n",
        "# 3. Multiply the array with any integers of your choice.\n",
        "print(\"SCALAR MULTIPLICATION: \", 3 * x)\n",
        "\n",
        "# 4. Find the square of each element of the array.\n",
        "print(\"SQUARE OF X: \",np.square(x))\n",
        "\n",
        "# 5. Find the dot product between: v(and)w ; x(and)v ; x(and)y.\n",
        "print(\"DOT MULTIPLICATION OF V AND W:\",np.dot(v,w))\n",
        "print(\"DOT MULTIPLICATION OF X AND V:\",np.dot(x,v))\n",
        "print(\"DOT MULTIPLICATION OF X AND Y:\",np.dot(x,y))\n",
        "\n",
        "# 6. Concatenate x(and)y along row and Concatenate v(and)w along column.\n",
        "print(\"CONCATENATE X AND Y ALONG ROW: \",np.concatenate((x,y),axis=1))\n",
        "print(\"CONCATENATE V AND W: \", np.concatenate((v,w),axis=0))\n",
        "\n",
        "# {Hint:try np.concatenate() or np.vstack() functions.\n",
        "\n",
        "# 7. Concatenate x(and)v; if you get an error, observe and explain why did you get the error?\n",
        "print(\"CONCATENATE X AND V: \", np.concatenate((x,v),axis=0)) # ERROR as the dimension of x and v do not match"
      ],
      "metadata": {
        "colab": {
          "base_uri": "https://localhost:8080/",
          "height": 436
        },
        "id": "Fu6fMtCfjn9O",
        "outputId": "4bab2be3-5711-41d9-e394-d8c4001ab3d3"
      },
      "execution_count": null,
      "outputs": [
        {
          "output_type": "stream",
          "name": "stdout",
          "text": [
            "ADD:  [[ 6  8]\n",
            " [10 13]]\n",
            "SUBTRACT:  [[-4 -4]\n",
            " [-4 -3]]\n",
            "SCALAR MULTIPLICATION:  [[ 3  6]\n",
            " [ 9 15]]\n",
            "SQUARE OF X:  [[ 1  4]\n",
            " [ 9 25]]\n",
            "DOT MULTIPLICATION OF V AND W: 219\n",
            "DOT MULTIPLICATION OF X AND V: [29 77]\n",
            "DOT MULTIPLICATION OF X AND Y: [[19 22]\n",
            " [50 58]]\n",
            "CONCATENATE X AND Y ALONG ROW:  [[1 2 5 6]\n",
            " [3 5 7 8]]\n",
            "CONCATENATE V AND W:  [ 9 10 11 12]\n"
          ]
        },
        {
          "output_type": "error",
          "ename": "ValueError",
          "evalue": "all the input arrays must have same number of dimensions, but the array at index 0 has 2 dimension(s) and the array at index 1 has 1 dimension(s)",
          "traceback": [
            "\u001b[0;31m---------------------------------------------------------------------------\u001b[0m",
            "\u001b[0;31mValueError\u001b[0m                                Traceback (most recent call last)",
            "\u001b[0;32m<ipython-input-60-0f05d5da230f>\u001b[0m in \u001b[0;36m<cell line: 0>\u001b[0;34m()\u001b[0m\n\u001b[1;32m     33\u001b[0m \u001b[0;34m\u001b[0m\u001b[0m\n\u001b[1;32m     34\u001b[0m \u001b[0;31m# 7. Concatenate x(and)v; if you get an error, observe and explain why did you get the error?\u001b[0m\u001b[0;34m\u001b[0m\u001b[0;34m\u001b[0m\u001b[0m\n\u001b[0;32m---> 35\u001b[0;31m \u001b[0mprint\u001b[0m\u001b[0;34m(\u001b[0m\u001b[0;34m\"CONCATENATE X AND V: \"\u001b[0m\u001b[0;34m,\u001b[0m \u001b[0mnp\u001b[0m\u001b[0;34m.\u001b[0m\u001b[0mconcatenate\u001b[0m\u001b[0;34m(\u001b[0m\u001b[0;34m(\u001b[0m\u001b[0mx\u001b[0m\u001b[0;34m,\u001b[0m\u001b[0mv\u001b[0m\u001b[0;34m)\u001b[0m\u001b[0;34m,\u001b[0m\u001b[0maxis\u001b[0m\u001b[0;34m=\u001b[0m\u001b[0;36m0\u001b[0m\u001b[0;34m)\u001b[0m\u001b[0;34m)\u001b[0m\u001b[0;34m\u001b[0m\u001b[0;34m\u001b[0m\u001b[0m\n\u001b[0m",
            "\u001b[0;31mValueError\u001b[0m: all the input arrays must have same number of dimensions, but the array at index 0 has 2 dimension(s) and the array at index 1 has 1 dimension(s)"
          ]
        }
      ]
    },
    {
      "cell_type": "code",
      "source": [
        "# Problem - 4: Matrix Operations:\n",
        "# • For the following arrays:\n",
        "A = np.array([[3,4],[7,8]])\n",
        "B = np.array([[5,3],[2,1]]);\n",
        "\n",
        "# Prove following with Numpy:\n",
        "# 1. Prove A.A−1 = I.\n",
        "A_inv = np.linalg.inv(A)\n",
        "print(np.dot(A, A_inv))\n",
        "\n",
        "# 2. Prove AB = ̸= BA.\n",
        "AB = np.dot(A,B)\n",
        "BA = np.dot(B,A)\n",
        "\n",
        "print((AB == BA).all())\n",
        "\n",
        "# 3. Prove (AB)T = B(T).A(T)\n",
        "print((AB.T == np.dot(B.T, A.T)).all())"
      ],
      "metadata": {
        "colab": {
          "base_uri": "https://localhost:8080/"
        },
        "id": "jbn5rc3coGV1",
        "outputId": "641b8e60-c1bd-4ac7-8ac0-e4038bb33bc6"
      },
      "execution_count": null,
      "outputs": [
        {
          "output_type": "stream",
          "name": "stdout",
          "text": [
            "[[1.00000000e+00 0.00000000e+00]\n",
            " [1.77635684e-15 1.00000000e+00]]\n",
            "False\n",
            "True\n"
          ]
        }
      ]
    },
    {
      "cell_type": "code",
      "source": [
        "# • Solve the following system of Linear equation using Inverse Methods.\n",
        "\n",
        "# 2x − 3y + z = −1\n",
        "# x − y + 2z = −3\n",
        "# 3x + y − z = 9\n",
        "A = np.array([[2,-3,1],[1,-1,2],[3,1,-1]])\n",
        "b = np.array([-1,-3,9])\n",
        "print(np.linalg.solve(A, b))\n",
        "\n",
        "# {Hint: First use Numpy array to represent the equation in Matrix form. Then Solve for: AX = B}\n",
        "\n",
        "# • Now: solve the above equation using np.linalg.inv function.{Explore more about ”linalg” func-\n",
        "# tion of Numpy}"
      ],
      "metadata": {
        "colab": {
          "base_uri": "https://localhost:8080/"
        },
        "id": "Mnx-vpBkoR41",
        "outputId": "c684f4b5-cf4f-4002-9c05-11d96164d0d1"
      },
      "execution_count": null,
      "outputs": [
        {
          "output_type": "stream",
          "name": "stdout",
          "text": [
            "[ 2.  1. -2.]\n"
          ]
        }
      ]
    }
  ]
}